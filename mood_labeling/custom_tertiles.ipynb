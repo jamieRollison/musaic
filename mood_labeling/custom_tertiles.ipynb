{
 "cells": [
  {
   "cell_type": "code",
   "execution_count": 25,
   "metadata": {},
   "outputs": [],
   "source": [
    "import numpy as np\n",
    "import pandas as pd\n",
    "import matplotlib.pyplot as plt\n",
    "import json\n",
    "\n",
    "%matplotlib inline"
   ]
  },
  {
   "cell_type": "code",
   "execution_count": 31,
   "metadata": {},
   "outputs": [],
   "source": [
    "jamie_df = pd.read_json(\"../data_processing/final_data_records_jamie.json\")\n",
    "melanie_df = pd.read_json(\"../data_processing/final_data_records_melanie.json\")\n",
    "super_df = pd.read_csv(\"kaggle_spotify_dataset.csv\")\n",
    "dfs = [jamie_df, melanie_df, super_df]"
   ]
  },
  {
   "cell_type": "code",
   "execution_count": 32,
   "metadata": {},
   "outputs": [],
   "source": [
    "relevant = ['valence','energy','danceability','acousticness','tempo']"
   ]
  },
  {
   "cell_type": "code",
   "execution_count": 37,
   "metadata": {},
   "outputs": [],
   "source": [
    "outarr = [{} for i in range(len(dfs))]"
   ]
  },
  {
   "cell_type": "code",
   "execution_count": 40,
   "metadata": {},
   "outputs": [],
   "source": [
    "for feature in relevant:\n",
    "    for i, curdf in enumerate(dfs):\n",
    "        curdf_f = curdf[feature]\n",
    "        outarr[i][feature] = [curdf_f.quantile(0.45), curdf_f.quantile(0.55)]"
   ]
  },
  {
   "cell_type": "code",
   "execution_count": 41,
   "metadata": {},
   "outputs": [],
   "source": [
    "with open('tertiles.json', 'w') as ofile:\n",
    "    json.dump(outarr, ofile)"
   ]
  },
  {
   "cell_type": "code",
   "execution_count": null,
   "metadata": {},
   "outputs": [],
   "source": []
  }
 ],
 "metadata": {
  "kernelspec": {
   "display_name": "pdata",
   "language": "python",
   "name": "python3"
  },
  "language_info": {
   "codemirror_mode": {
    "name": "ipython",
    "version": 3
   },
   "file_extension": ".py",
   "mimetype": "text/x-python",
   "name": "python",
   "nbconvert_exporter": "python",
   "pygments_lexer": "ipython3",
   "version": "3.12.3"
  }
 },
 "nbformat": 4,
 "nbformat_minor": 2
}
