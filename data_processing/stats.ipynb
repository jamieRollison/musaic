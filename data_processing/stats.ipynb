{
 "cells": [
  {
   "cell_type": "code",
   "execution_count": 1,
   "metadata": {},
   "outputs": [],
   "source": [
    "import pandas as pd\n",
    "import numpy as np\n",
    "import json"
   ]
  },
  {
   "cell_type": "code",
   "execution_count": 2,
   "metadata": {},
   "outputs": [],
   "source": [
    "pd.read_json(\"./final_data_records_jamie.json\", orient=\"records\").groupby(\"month\")[\n",
    "    [\"valence\", \"energy\", \"danceability\", \"acousticness\", \"tempo\", \"speechiness\"]\n",
    "].mean().to_json(\"./monthly_averages_jamie.json\", \"records\")"
   ]
  },
  {
   "cell_type": "code",
   "execution_count": 8,
   "metadata": {},
   "outputs": [],
   "source": [
    "pd.read_json(\"./final_data_records_melanie.json\", orient=\"records\").groupby(\"month\")[\n",
    "    [\"valence\", \"energy\", \"danceability\", \"acousticness\", \"tempo\", \"speechiness\"]\n",
    "].mean().to_json(\"./monthly_averages_melanie.json\", \"records\")"
   ]
  },
  {
   "cell_type": "code",
   "execution_count": null,
   "metadata": {},
   "outputs": [],
   "source": []
  }
 ],
 "metadata": {
  "kernelspec": {
   "display_name": "base",
   "language": "python",
   "name": "python3"
  },
  "language_info": {
   "codemirror_mode": {
    "name": "ipython",
    "version": 3
   },
   "file_extension": ".py",
   "mimetype": "text/x-python",
   "name": "python",
   "nbconvert_exporter": "python",
   "pygments_lexer": "ipython3",
   "version": "3.11.4"
  }
 },
 "nbformat": 4,
 "nbformat_minor": 2
}
