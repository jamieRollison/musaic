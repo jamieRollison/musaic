{
 "cells": [
  {
   "cell_type": "code",
   "execution_count": 11,
   "metadata": {},
   "outputs": [],
   "source": [
    "import pandas as pd\n",
    "from dotenv import load_dotenv\n",
    "import spotipy\n",
    "from spotipy.oauth2 import SpotifyClientCredentials\n",
    "import os\n",
    "import json"
   ]
  },
  {
   "cell_type": "code",
   "execution_count": 22,
   "metadata": {},
   "outputs": [
    {
     "name": "stdout",
     "output_type": "stream",
     "text": [
      "21409\n",
      "4284\n"
     ]
    }
   ],
   "source": [
    "df = pd.read_json('./final_data_records_melanie.json')\n",
    "cleaned_df = df.drop_duplicates(subset=['spotify_track_uri'])\n",
    "print(df.shape[0])\n",
    "print(cleaned_df.shape[0])"
   ]
  },
  {
   "cell_type": "code",
   "execution_count": 26,
   "metadata": {},
   "outputs": [],
   "source": [
    "# Load environment variables from .env file\n",
    "load_dotenv()\n",
    "\n",
    "# Access environment variables\n",
    "my_client_id = os.getenv('CLIENT_ID')\n",
    "my_client_secret = os.getenv('CLIENT_SECRET')\n",
    "\n",
    "client_credentials_manager = SpotifyClientCredentials(client_id=my_client_id,\n",
    "                                                      client_secret=my_client_secret)\n",
    "sp = spotipy.Spotify(client_credentials_manager=client_credentials_manager)"
   ]
  },
  {
   "cell_type": "code",
   "execution_count": 27,
   "metadata": {},
   "outputs": [],
   "source": [
    "album_dict = {}\n",
    "resume_index = 0"
   ]
  },
  {
   "cell_type": "code",
   "execution_count": 28,
   "metadata": {},
   "outputs": [
    {
     "name": "stdout",
     "output_type": "stream",
     "text": [
      "No album cover found for  Live Without Love with spotify uri:  spotify:track:3G5d8eTsM2GY1UTaEYwpOj\n"
     ]
    }
   ],
   "source": [
    "for index, row in cleaned_df.iterrows():\n",
    "    split = row[\"spotify_track_uri\"].split(\":\")\n",
    "    spotify_uri = split[2]\n",
    "\n",
    "    try:\n",
    "        # more info about audio features: https://developer.spotify.com/documentation/web-api/reference/get-audio-features\n",
    "        track_info = sp.track(spotify_uri)\n",
    "\n",
    "        if (track_info == None):\n",
    "            print(\"No track info found for \", row[\"master_metadata_track_name\"])\n",
    "            continue\n",
    "        else:\n",
    "            try:\n",
    "                album_cover_url = track_info['album']['images'][0]['url']\n",
    "                album_dict[row[\"spotify_track_uri\"]] = album_cover_url\n",
    "            except:\n",
    "                print(\"No album cover found for\", row[\"master_metadata_track_name\"], \"with spotify uri:\", row[\"spotify_track_uri\"])\n",
    "                continue\n",
    "            \n",
    "    except spotipy.SpotifyException as e:\n",
    "        # Rate limiting error\n",
    "        if e.http_status == 429:\n",
    "            print(\"Rate limited.\")\n",
    "            print(e)\n",
    "            resume_index = index\n",
    "            break"
   ]
  },
  {
   "cell_type": "code",
   "execution_count": 29,
   "metadata": {},
   "outputs": [
    {
     "name": "stdout",
     "output_type": "stream",
     "text": [
      "0\n"
     ]
    }
   ],
   "source": [
    "file_path = 'album_melanie.json'\n",
    "print(resume_index)\n",
    "\n",
    "with open(file_path, 'w') as file:\n",
    "    json.dump(album_dict, file)"
   ]
  }
 ],
 "metadata": {
  "kernelspec": {
   "display_name": "venv_name",
   "language": "python",
   "name": "python3"
  },
  "language_info": {
   "codemirror_mode": {
    "name": "ipython",
    "version": 3
   },
   "file_extension": ".py",
   "mimetype": "text/x-python",
   "name": "python",
   "nbconvert_exporter": "python",
   "pygments_lexer": "ipython3",
   "version": "3.12.2"
  }
 },
 "nbformat": 4,
 "nbformat_minor": 2
}
